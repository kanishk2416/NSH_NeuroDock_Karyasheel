{
 "cells": [
  {
   "cell_type": "code",
   "execution_count": 2,
   "id": "2de88aaf-c08b-40f7-b885-65eea0aac21d",
   "metadata": {},
   "outputs": [],
   "source": [
    "import pandas as pd\n",
    "from sklearn.ensemble import RandomForestClassifier\n",
    "from sklearn.model_selection import train_test_split"
   ]
  },
  {
   "cell_type": "code",
   "execution_count": 4,
   "id": "480ea30a-4c5b-4444-a128-82efca738b93",
   "metadata": {},
   "outputs": [],
   "source": [
    "# Load data\n",
    "containers_df = pd.read_csv(\"containers.csv\")\n",
    "items_df = pd.read_csv(\"input_items.csv\")"
   ]
  },
  {
   "cell_type": "code",
   "execution_count": 6,
   "id": "f25f12e1-520d-42ce-be8a-9f49253722d5",
   "metadata": {},
   "outputs": [],
   "source": [
    "# Compute volume for both-\n",
    "containers_df[\"container_volume\"] = containers_df[\"height_cm\"] * containers_df[\"depth_cm\"] * containers_df[\"width_cm\"]\n",
    "containers_df[\"available_volume\"] = containers_df[\"container_volume\"]\n",
    "items_df[\"item_volume\"] = items_df[\"height_cm\"] * items_df[\"depth_cm\"] * items_df[\"width_cm\"]"
   ]
  },
  {
   "cell_type": "code",
   "execution_count": 8,
   "id": "aea62007-476f-4ad5-a264-106f04a41e29",
   "metadata": {},
   "outputs": [],
   "source": [
    "# Generate training data: simulate placement results\n",
    "training_data = []\n",
    "for _, item in items_df.iterrows():\n",
    "    for _, container in containers_df.iterrows():\n",
    "        fits = 1 if item[\"item_volume\"] <= container[\"available_volume\"] else 0\n",
    "        training_data.append({\n",
    "            \"item_volume\": item[\"item_volume\"],\n",
    "            \"item_mass\": item[\"mass_kg\"],\n",
    "            \"priority\": item[\"priority\"],\n",
    "            \"container_volume\": container[\"container_volume\"],\n",
    "            \"same_zone\": int(item[\"preferred_zone\"] == container[\"zone\"]),\n",
    "            \"fits\": fits\n",
    "        })\n",
    "\n",
    "df_train = pd.DataFrame(training_data)"
   ]
  },
  {
   "cell_type": "code",
   "execution_count": 14,
   "id": "7ee28a56-0864-4f26-af8a-7acc91b38ab7",
   "metadata": {},
   "outputs": [],
   "source": [
    "# Train/Test Split\n",
    "X = df_train.drop(\"fits\", axis=1)\n",
    "y = df_train[\"fits\"]\n",
    "X_train, X_test, y_train, y_test = train_test_split(X, y, test_size=0.2, random_state=42)"
   ]
  },
  {
   "cell_type": "code",
   "execution_count": 16,
   "id": "5866ff97-40f0-442d-84b3-d1bc1b0270de",
   "metadata": {},
   "outputs": [],
   "source": [
    "# Train ML model\n",
    "model = RandomForestClassifier(n_estimators=100, random_state=42)\n",
    "model.fit(X_train, y_train)\n",
    "\n",
    "# Now predict placement using model\n",
    "items_df[\"placement\"] = None\n",
    "items_df[\"placement_note\"] = None"
   ]
  },
  {
   "cell_type": "code",
   "execution_count": 22,
   "id": "1081eb66-ca71-4582-ab0b-cd6c7910fe0e",
   "metadata": {},
   "outputs": [],
   "source": [
    "for iidx, item in items_df.iterrows():\n",
    "    item_volume = item[\"item_volume\"]\n",
    "    item_mass = item[\"mass_kg\"]\n",
    "    priority = item[\"priority\"]\n",
    "    preferred_zone = item[\"preferred_zone\"]\n",
    "\n",
    "    scored_containers = []\n",
    "    for cidx, container in containers_df.iterrows():\n",
    "        feature = pd.DataFrame([{\n",
    "            \"item_volume\": item_volume,\n",
    "            \"item_mass\": item_mass,\n",
    "            \"priority\": priority,\n",
    "            \"container_volume\": container[\"container_volume\"],\n",
    "            \"same_zone\": int(preferred_zone == container[\"zone\"])\n",
    "        }])\n",
    "\n",
    "        proba = model.predict_proba(feature)[0]\n",
    "if len(proba) > 1:\n",
    "    prediction = proba[1]\n",
    "else:\n",
    "    prediction = proba[0]  # or 0.0 if you're expecting class=1\n",
    "  # probability of fit\n",
    "    scored_containers.append((prediction, container[\"container_id\"], cidx, container[\"available_volume\"]))\n",
    "\n",
    "    # Sort by highest prediction + available space\n",
    "    scored_containers.sort(reverse=True)\n",
    "\n",
    "    placed = False\n",
    "    for score, cid, cidx, avail_vol in scored_containers:\n",
    "        if avail_vol >= item_volume:\n",
    "            containers_df.at[cidx, \"available_volume\"] -= item_volume\n",
    "            items_df.at[iidx, \"placement\"] = cid\n",
    "            note = \"ML-predicted placement (preferred)\" if preferred_zone == containers_df.at[cidx, \"zone\"] else \"ML-predicted placement (alternate)\"\n",
    "            items_df.at[iidx, \"placement_note\"] = note\n",
    "            placed = True\n",
    "            break\n",
    "\n",
    "    if not placed:\n",
    "        items_df.at[iidx, \"placement_note\"] = \"ML model could not find fit\"\n"
   ]
  },
  {
   "cell_type": "code",
   "execution_count": 23,
   "id": "f4ca13d9-c2cc-49fb-a662-b4dcc3709230",
   "metadata": {},
   "outputs": [
    {
     "name": "stdout",
     "output_type": "stream",
     "text": [
      "✅ ML-based placement recommendations saved to ml_placement_recommendations.csv\n"
     ]
    }
   ],
   "source": [
    "# Export\n",
    "items_df[[\"item_id\", \"name\", \"priority\", \"preferred_zone\", \"placement\", \"placement_note\"]].to_csv(\"ml_placement_recommendations.csv\", index=False)\n",
    "print(\"✅ ML-based placement recommendations saved to ml_placement_recommendations.csv\")"
   ]
  }
 ],
 "metadata": {
  "kernelspec": {
   "display_name": "Python [conda env:base] *",
   "language": "python",
   "name": "conda-base-py"
  },
  "language_info": {
   "codemirror_mode": {
    "name": "ipython",
    "version": 3
   },
   "file_extension": ".py",
   "mimetype": "text/x-python",
   "name": "python",
   "nbconvert_exporter": "python",
   "pygments_lexer": "ipython3",
   "version": "3.12.7"
  }
 },
 "nbformat": 4,
 "nbformat_minor": 5
}
